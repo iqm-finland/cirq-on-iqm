{
 "cells": [
  {
   "cell_type": "code",
   "execution_count": 1,
   "metadata": {},
   "outputs": [],
   "source": [
    "try:\n",
    "    import cirq\n",
    "    from iqm.cirq_iqm import Adonis, Apollo, Aphrodite, circuit_from_qasm\n",
    "    from iqm.cirq_iqm.optimizers import simplify_circuit\n",
    "except ImportError:\n",
    "    print('Installing missing dependencies...')\n",
    "    !pip install --quiet cirq cirq_iqm\n",
    "    from iqm.cirq_iqm import Adonis, Apollo, circuit_from_qasm\n",
    "    from iqm.cirq_iqm.optimizers import simplify_circuit\n",
    "    print('Installation ready')"
   ]
  },
  {
   "cell_type": "markdown",
   "metadata": {},
   "source": [
    "# The Adonis architecture\n",
    "\n",
    "Construct an `IQMDevice` instance representing the Adonis architecture, print its qubit connectivity and description"
   ]
  },
  {
   "cell_type": "code",
   "execution_count": 2,
   "metadata": {},
   "outputs": [
    {
     "name": "stdout",
     "output_type": "stream",
     "text": [
      "IQM's five-qubit transmon device.\n",
      "\n",
      "    The qubits are connected thus::\n",
      "\n",
      "            QB1\n",
      "             |\n",
      "      QB2 - QB3 - QB4\n",
      "             |\n",
      "            QB5\n",
      "\n",
      "    where the lines denote which qubit pairs can be subject to two-qubit gates.\n",
      "\n",
      "    Adonis has native PhasedXPowGate, XPowGate, and YPowGate gates. The two-qubit gate CZ is\n",
      "    native, as well. The qubits can be measured simultaneously or separately any number of times.\n",
      "    \n",
      "Gateset: \n",
      "Type GateFamily: cirq.ops.phased_x_gate.PhasedXPowGate\n",
      "Accepts `cirq.Gate` instances `g` s.t. `isinstance(g, cirq.ops.phased_x_gate.PhasedXPowGate)`\n",
      "\n",
      "Type GateFamily: cirq.ops.common_gates.XPowGate\n",
      "Accepts `cirq.Gate` instances `g` s.t. `isinstance(g, cirq.ops.common_gates.XPowGate)`\n",
      "\n",
      "Type GateFamily: cirq.ops.common_gates.YPowGate\n",
      "Accepts `cirq.Gate` instances `g` s.t. `isinstance(g, cirq.ops.common_gates.YPowGate)`\n",
      "\n",
      "Type GateFamily: cirq.ops.measurement_gate.MeasurementGate\n",
      "Accepts `cirq.Gate` instances `g` s.t. `isinstance(g, cirq.ops.measurement_gate.MeasurementGate)`\n",
      "\n",
      "Type GateFamily: cirq.ops.common_gates.CZPowGate\n",
      "Accepts `cirq.Gate` instances `g` s.t. `isinstance(g, cirq.ops.common_gates.CZPowGate)`\n",
      "(cirq.NamedQid('QB1', dimension=2), cirq.NamedQid('QB2', dimension=2), cirq.NamedQid('QB3', dimension=2), cirq.NamedQid('QB4', dimension=2), cirq.NamedQid('QB5', dimension=2))\n"
     ]
    }
   ],
   "source": [
    "adonis = Adonis()\n",
    "print(adonis.__doc__)\n",
    "print(adonis.metadata.gateset)\n",
    "print(adonis.qubits)"
   ]
  },
  {
   "cell_type": "markdown",
   "metadata": {},
   "source": [
    "# Creating a quantum circuit\n",
    "\n",
    "Create a quantum circuit and insert native gates"
   ]
  },
  {
   "cell_type": "code",
   "execution_count": 3,
   "metadata": {},
   "outputs": [
    {
     "name": "stdout",
     "output_type": "stream",
     "text": [
      "QB1 (d=2): ───X──────────────@────────────\n",
      "                             │\n",
      "QB3 (d=2): ───PhX(0.3)^0.5───@───Y^-0.9───\n"
     ]
    }
   ],
   "source": [
    "a, b, c = adonis.qubits[:3]\n",
    "circuit = cirq.Circuit()\n",
    "circuit.append(cirq.X(a))\n",
    "circuit.append(cirq.PhasedXPowGate(phase_exponent=0.3, exponent=0.5)(c))\n",
    "circuit.append(cirq.CZ(a, c))\n",
    "circuit.append(cirq.YPowGate(exponent=1.1)(c))\n",
    "print(circuit)"
   ]
  },
  {
   "cell_type": "markdown",
   "metadata": {},
   "source": [
    "Insert non-native gates and decompose them into native ones by calling `decompose_circuit`"
   ]
  },
  {
   "cell_type": "code",
   "execution_count": 4,
   "metadata": {},
   "outputs": [
    {
     "name": "stdout",
     "output_type": "stream",
     "text": [
      "QB1 (d=2): ───X──────────────@────────────────────────@────────────@───Y^0.25─────X^-0.4───Y^-0.25───\n",
      "                             │                        │            │\n",
      "QB3 (d=2): ───PhX(0.3)^0.5───@───Y^-0.9───Ry(-0.5π)───@───X^-0.2───@───Ry(0.5π)──────────────────────\n"
     ]
    }
   ],
   "source": [
    "circuit.append(cirq.ZZPowGate(exponent=0.2, global_shift=-0.5)(a, c))\n",
    "circuit.append(cirq.HPowGate(exponent=-0.4)(a))\n",
    "circuit = adonis.decompose_circuit(circuit)\n",
    "print(circuit)"
   ]
  },
  {
   "cell_type": "markdown",
   "metadata": {},
   "source": [
    "# Optimizing a quantum circuit\n",
    "\n",
    "Use the `simplify_circuit` method to run a sequence of optimization passes on a circuit"
   ]
  },
  {
   "cell_type": "code",
   "execution_count": 5,
   "metadata": {},
   "outputs": [
    {
     "name": "stdout",
     "output_type": "stream",
     "text": [
      "QB1 (d=2): ───H───@───M('result')───\n",
      "                  │   │\n",
      "QB3 (d=2): ───────X───M─────────────\n"
     ]
    }
   ],
   "source": [
    "circuit = cirq.Circuit([\n",
    "    cirq.H(a),\n",
    "    cirq.CNOT(a, c),\n",
    "    cirq.measure(a, c, key='result')])\n",
    "print(circuit)"
   ]
  },
  {
   "cell_type": "code",
   "execution_count": 6,
   "metadata": {},
   "outputs": [
    {
     "name": "stdout",
     "output_type": "stream",
     "text": [
      "QB1 (d=2): ───PhX(-0.5)^0.5───@──────────────────M('result')───\n",
      "                              │                  │\n",
      "QB3 (d=2): ───PhX(-0.5)^0.5───@───PhX(0.5)^0.5───M─────────────\n"
     ]
    }
   ],
   "source": [
    "circuit = adonis.decompose_circuit(circuit)\n",
    "circuit = simplify_circuit(circuit)\n",
    "print(circuit)"
   ]
  },
  {
   "cell_type": "markdown",
   "metadata": {},
   "source": [
    "# Simulating a quantum circuit\n",
    "\n",
    "Circuits that contain IQM-native gates can be simulated using the standard Cirq simulators"
   ]
  },
  {
   "cell_type": "code",
   "execution_count": 7,
   "metadata": {},
   "outputs": [
    {
     "name": "stdout",
     "output_type": "stream",
     "text": [
      "Samples:\n",
      "Counter({3: 53, 0: 47})\n",
      "\n",
      "State before the measurement:\n",
      "measurements: (no measurements)\n",
      "\n",
      "qubits: (cirq.NamedQid('QB1', dimension=2), cirq.NamedQid('QB3', dimension=2))\n",
      "output vector: (-0.5+0.5j)|00⟩ + (0.5-0.5j)|11⟩\n",
      "\n",
      "phase:\n",
      "output vector: |⟩\n"
     ]
    }
   ],
   "source": [
    "sim = cirq.Simulator()\n",
    "samples = sim.run(circuit, repetitions=100)\n",
    "\n",
    "print('Samples:')\n",
    "print(samples.histogram(key='result'))\n",
    "print('\\nState before the measurement:')\n",
    "result = sim.simulate(circuit[:-1])\n",
    "print(result)"
   ]
  },
  {
   "cell_type": "markdown",
   "metadata": {},
   "source": [
    "Note that the above output vector represents the state before the measurement in the optimized circuit, not the original one, which would have the same phase for both terms. `simplify_circuit` has eliminated a `ZPowGate` which has no effect on the measurement.\n",
    "\n",
    "---\n",
    "\n",
    "# Creating a quantum circuit from an OpenQASM 2.0 program\n"
   ]
  },
  {
   "cell_type": "code",
   "execution_count": 8,
   "metadata": {},
   "outputs": [
    {
     "name": "stdout",
     "output_type": "stream",
     "text": [
      "q_0: ───H────────────────\n",
      "\n",
      "q_1: ───Rx(0.541π)───@───\n",
      "                     │\n",
      "q_2: ────────────────X───\n"
     ]
    }
   ],
   "source": [
    "qasm_program = \"\"\"\n",
    "    OPENQASM 2.0;\n",
    "    include \"qelib1.inc\";\n",
    "    qreg q[3];\n",
    "    creg meas[3];\n",
    "    rx(1.7) q[1];\n",
    "    h q[0];\n",
    "    cx q[1], q[2];\n",
    "\"\"\"\n",
    "circuit = circuit_from_qasm(qasm_program)\n",
    "print(circuit)"
   ]
  },
  {
   "cell_type": "markdown",
   "metadata": {},
   "source": [
    "Decompose the circuit for the Adonis architecture"
   ]
  },
  {
   "cell_type": "code",
   "execution_count": 9,
   "metadata": {
    "scrolled": true
   },
   "outputs": [
    {
     "name": "stdout",
     "output_type": "stream",
     "text": [
      "q_0: ───Y^0.5────────X───────────\n",
      "\n",
      "q_1: ───Rx(0.541π)───@───────────\n",
      "                     │\n",
      "q_2: ───Y^-0.5───────@───Y^0.5───\n"
     ]
    }
   ],
   "source": [
    "decomposed = adonis.decompose_circuit(circuit)\n",
    "print(decomposed)"
   ]
  },
  {
   "cell_type": "markdown",
   "metadata": {},
   "source": [
    "Map the circuit qubits to device qubits manually"
   ]
  },
  {
   "cell_type": "code",
   "execution_count": 10,
   "metadata": {
    "scrolled": false
   },
   "outputs": [
    {
     "name": "stdout",
     "output_type": "stream",
     "text": [
      "QB1 (d=2): ───Y^0.5────────X───────────\n",
      "\n",
      "QB2 (d=2): ───Rx(0.541π)───@───────────\n",
      "                           │\n",
      "QB3 (d=2): ───Y^-0.5───────@───Y^0.5───\n"
     ]
    }
   ],
   "source": [
    "qubit_mapping = {cirq.NamedQubit(k): v for k, v in {'q_0': a, 'q_1': b, 'q_2': c}.items()}\n",
    "mapped = decomposed.transform_qubits(qubit_mapping)\n",
    "print(mapped)"
   ]
  },
  {
   "cell_type": "markdown",
   "metadata": {},
   "source": [
    "or automatically"
   ]
  },
  {
   "cell_type": "code",
   "execution_count": 11,
   "metadata": {
    "scrolled": true
   },
   "outputs": [
    {
     "name": "stdout",
     "output_type": "stream",
     "text": [
      "                           ┌──┐\n",
      "QB1 (d=2): ───Rx(0.541π)─────@────────────\n",
      "                             │\n",
      "QB2 (d=2): ───Y^0.5─────────X┼────────────\n",
      "                             │\n",
      "QB3 (d=2): ───Y^-0.5─────────@────Y^0.5───\n",
      "                           └──┘\n"
     ]
    }
   ],
   "source": [
    "mapped, _, _ = adonis.route_circuit(decomposed)\n",
    "print(mapped)"
   ]
  },
  {
   "cell_type": "markdown",
   "metadata": {},
   "source": [
    "See the `examples` directory for more examples."
   ]
  },
  {
   "cell_type": "markdown",
   "metadata": {},
   "source": [
    "---\n",
    "\n",
    "# The Apollo architecture\n",
    "\n",
    "This section describes the same workflow using the 20-qubit Apollo architecture.\n",
    "\n",
    "Construct an `IQMDevice` instance representing the Apollo architecture, print its qubit connectivity and description"
   ]
  },
  {
   "cell_type": "code",
   "execution_count": 12,
   "metadata": {
    "scrolled": true
   },
   "outputs": [
    {
     "name": "stdout",
     "output_type": "stream",
     "text": [
      "IQM's twenty-qubit transmon device.\n",
      "\n",
      "    The qubits are connected thus::\n",
      "\n",
      "            QB20  QB17\n",
      "            /  \\  /  \\\n",
      "         QB19  QB16  QB12\n",
      "         /  \\  /  \\  /  \\\n",
      "      QB18  QB15  QB11  QB7\n",
      "         \\  /  \\  /  \\  /\n",
      "         QB14  QB10  QB6\n",
      "         /  \\  /  \\  /\n",
      "      QB13  QB9   QB5\n",
      "         \\  /  \\  /  \\\n",
      "         QB8   QB4   QB2\n",
      "            \\  /  \\  /\n",
      "            QB3   QB1\n",
      "\n",
      "    where the lines denote which qubit pairs can be subject to two-qubit gates.\n",
      "\n",
      "    Apollo has native PhasedXPowGate, XPowGate, and YPowGate gates. The two-qubit gate CZ is\n",
      "    native, as well. The qubits can be measured simultaneously or separately any number of times.\n",
      "    \n",
      "Gateset: \n",
      "Type GateFamily: cirq.ops.phased_x_gate.PhasedXPowGate\n",
      "Accepts `cirq.Gate` instances `g` s.t. `isinstance(g, cirq.ops.phased_x_gate.PhasedXPowGate)`\n",
      "\n",
      "Type GateFamily: cirq.ops.common_gates.XPowGate\n",
      "Accepts `cirq.Gate` instances `g` s.t. `isinstance(g, cirq.ops.common_gates.XPowGate)`\n",
      "\n",
      "Type GateFamily: cirq.ops.common_gates.YPowGate\n",
      "Accepts `cirq.Gate` instances `g` s.t. `isinstance(g, cirq.ops.common_gates.YPowGate)`\n",
      "\n",
      "Type GateFamily: cirq.ops.measurement_gate.MeasurementGate\n",
      "Accepts `cirq.Gate` instances `g` s.t. `isinstance(g, cirq.ops.measurement_gate.MeasurementGate)`\n",
      "\n",
      "Type GateFamily: cirq.ops.common_gates.CZPowGate\n",
      "Accepts `cirq.Gate` instances `g` s.t. `isinstance(g, cirq.ops.common_gates.CZPowGate)`\n",
      "(cirq.NamedQid('QB1', dimension=2), cirq.NamedQid('QB2', dimension=2), cirq.NamedQid('QB3', dimension=2), cirq.NamedQid('QB4', dimension=2), cirq.NamedQid('QB5', dimension=2), cirq.NamedQid('QB6', dimension=2), cirq.NamedQid('QB7', dimension=2), cirq.NamedQid('QB8', dimension=2), cirq.NamedQid('QB9', dimension=2), cirq.NamedQid('QB10', dimension=2), cirq.NamedQid('QB11', dimension=2), cirq.NamedQid('QB12', dimension=2), cirq.NamedQid('QB13', dimension=2), cirq.NamedQid('QB14', dimension=2), cirq.NamedQid('QB15', dimension=2), cirq.NamedQid('QB16', dimension=2), cirq.NamedQid('QB17', dimension=2), cirq.NamedQid('QB18', dimension=2), cirq.NamedQid('QB19', dimension=2), cirq.NamedQid('QB20', dimension=2))\n"
     ]
    }
   ],
   "source": [
    "apollo = Apollo()\n",
    "print(apollo.__doc__)\n",
    "print(apollo.metadata.gateset)\n",
    "print(apollo.qubits)"
   ]
  },
  {
   "cell_type": "markdown",
   "metadata": {},
   "source": [
    "Create a circuit and insert native gates"
   ]
  },
  {
   "cell_type": "code",
   "execution_count": 13,
   "metadata": {},
   "outputs": [
    {
     "name": "stdout",
     "output_type": "stream",
     "text": [
      "QB1 (d=2): ───@──────────────@───\n",
      "              │              │\n",
      "QB2 (d=2): ───@──────────────┼───\n",
      "                             │\n",
      "QB3 (d=2): ──────────────────@───\n",
      "\n",
      "QB4 (d=2): ───Y^-0.9─────────────\n",
      "\n",
      "QB5 (d=2): ───Y^-0.9─────────────\n",
      "\n",
      "QB6 (d=2): ───PhX(0.3)^0.5───────\n"
     ]
    }
   ],
   "source": [
    "a, b, c, d, e, f = apollo.qubits[:6]\n",
    "circuit = cirq.Circuit()\n",
    "circuit.append(cirq.CZ(a, b))\n",
    "circuit.append(cirq.CZ(a, c))\n",
    "circuit.append(cirq.YPowGate(exponent=1.1)(d))\n",
    "circuit.append(cirq.YPowGate(exponent=1.1)(e))\n",
    "circuit.append(cirq.PhasedXPowGate(phase_exponent=0.3, exponent=0.5)(f))\n",
    "print(circuit)"
   ]
  },
  {
   "cell_type": "markdown",
   "metadata": {},
   "source": [
    "Insert non-native gates and decompose the circuit so that it contains native gates only"
   ]
  },
  {
   "cell_type": "code",
   "execution_count": 14,
   "metadata": {},
   "outputs": [
    {
     "name": "stdout",
     "output_type": "stream",
     "text": [
      "QB1 (d=2): ───@──────────────@─────────────────────────────────────────────\n",
      "              │              │\n",
      "QB2 (d=2): ───@──────────────┼─────────────────────────────────────────────\n",
      "                             │\n",
      "QB3 (d=2): ──────────────────@─────────────────────────────────────────────\n",
      "\n",
      "QB4 (d=2): ───Y^-0.9─────────────────────@──────────────────@──────────────\n",
      "                                         │                  │\n",
      "QB5 (d=2): ───Y^-0.9─────────Ry(-0.5π)───@────────X^-0.2────@───Ry(0.5π)───\n",
      "\n",
      "QB6 (d=2): ───PhX(0.3)^0.5───Y^0.25──────X^-0.4───Y^-0.25──────────────────\n"
     ]
    }
   ],
   "source": [
    "circuit.append(cirq.ZZPowGate(exponent=0.2, global_shift=-0.5)(d, e))\n",
    "circuit.append(cirq.HPowGate(exponent=-0.4)(f))\n",
    "circuit = apollo.decompose_circuit(circuit)\n",
    "print(circuit)"
   ]
  },
  {
   "cell_type": "markdown",
   "metadata": {},
   "source": [
    "Use the `simplify_circuit` function to run a sequence of optimization passes on a circuit"
   ]
  },
  {
   "cell_type": "code",
   "execution_count": 15,
   "metadata": {},
   "outputs": [
    {
     "name": "stdout",
     "output_type": "stream",
     "text": [
      "QB1 (d=2): ───@─────────────────────────────@───────────────────────────────────────\n",
      "              │                             │\n",
      "QB2 (d=2): ───@─────────────────────────────┼───────────────────────────────────────\n",
      "                                            │\n",
      "QB3 (d=2): ─────────────────────────────────@───────────────────────────────────────\n",
      "\n",
      "QB4 (d=2): ───PhX(-0.5)^0.9─────────────────────@────────────────@──────────────────\n",
      "                                                │                │\n",
      "QB5 (d=2): ───PhX(0.5)^0.6──────────────────────@───PhX(1)^0.2───@───PhX(0.5)^0.5───\n",
      "\n",
      "QB6 (d=2): ───PhX(0.453)^0.264───Z^-0.395───────────────────────────────────────────\n"
     ]
    }
   ],
   "source": [
    "circuit = apollo.decompose_circuit(circuit)\n",
    "circuit = simplify_circuit(circuit)\n",
    "print(circuit)"
   ]
  },
  {
   "cell_type": "code",
   "execution_count": 16,
   "metadata": {},
   "outputs": [
    {
     "name": "stdout",
     "output_type": "stream",
     "text": [
      "Samples:\n",
      "Counter({0: 82, 1: 18})\n",
      "\n",
      "State before the measurement:\n",
      "measurements: result=00\n",
      "\n",
      "qubits: (cirq.NamedQid('QB1', dimension=2),)\n",
      "output vector: (0.915+0.403j)|0⟩\n",
      "\n",
      "qubits: (cirq.NamedQid('QB2', dimension=2), cirq.NamedQid('QB3', dimension=2))\n",
      "output vector: |00⟩\n",
      "\n",
      "qubits: (cirq.NamedQid('QB4', dimension=2), cirq.NamedQid('QB5', dimension=2))\n",
      "output vector: (-0.096+0.005j)|00⟩ + (-0.12+0.029j)|01⟩ + (0.38-0.471j)|10⟩ + (0.596-0.505j)|11⟩\n",
      "\n",
      "qubits: (cirq.NamedQid('QB6', dimension=2),)\n",
      "output vector: |0⟩\n",
      "\n",
      "phase:\n",
      "output vector: |⟩\n"
     ]
    }
   ],
   "source": [
    "circuit.append(cirq.measure(a, f, key='result'))\n",
    "\n",
    "sim = cirq.Simulator()\n",
    "samples = sim.run(circuit, repetitions=100)\n",
    "\n",
    "print('Samples:')\n",
    "print(samples.histogram(key='result'))\n",
    "print('\\nState before the measurement:')\n",
    "result = sim.simulate(circuit[:-1])\n",
    "print(result)"
   ]
  },
  {
   "cell_type": "markdown",
   "metadata": {},
   "source": [
    "---\n",
    "\n",
    "# The Aphrodite device\n",
    "\n",
    "This section describes the same workflow for using the 54 qubit Aphrodite architecture.\n",
    "\n",
    "Construct an `IQMDevice` instance representing the Aphrodite architecture, print its qubit connectivity and description"
   ]
  },
  {
   "cell_type": "code",
   "execution_count": 17,
   "metadata": {},
   "outputs": [
    {
     "name": "stdout",
     "output_type": "stream",
     "text": [
      "IQM's 54-qubit transmon device.\n",
      "\n",
      "    The qubits are connected thus::\n",
      "\n",
      "          QB54  QB51  QB46  QB39\n",
      "          /  \\  /  \\  /  \\  /  \\\n",
      "       QB53  QB50  QB45  QB38  QB31\n",
      "       /  \\  /  \\  /  \\  /  \\  /\n",
      "    QB52  QB49  QB44  QB37  QB30\n",
      "       \\  /  \\  /  \\  /  \\  /  \\\n",
      "       QB48  QB43  QB36  QB29  QB22\n",
      "       /  \\  /  \\  /  \\  /  \\  /  \\\n",
      "    QB47  QB42  QB35  QB28  QB21  QB14\n",
      "       \\  /  \\  /  \\  /  \\  /  \\  /\n",
      "       QB41  QB34  QB27  QB20  QB13\n",
      "       /  \\  /  \\  /  \\  /  \\  /  \\\n",
      "    QB40  QB33  QB26  QB19  QB12  QB7\n",
      "       \\  /  \\  /  \\  /  \\  /  \\  /\n",
      "       QB32  QB25  QB18  QB11  QB6\n",
      "          \\  /  \\  /  \\  /  \\  /  \\\n",
      "          QB24  QB17  QB10  QB5   QB2\n",
      "          /  \\  /  \\  /  \\  /  \\  /\n",
      "       QB23  QB16  QB9   QB4   QB1\n",
      "          \\  /  \\  /  \\  /\n",
      "          QB15  QB8   QB3\n",
      "\n",
      "    where the lines denote which qubit pairs can be subject to two-qubit gates.\n",
      "\n",
      "    Aphrodite has native PhasedXPowGate, XPowGate, and YPowGate gates. The two-qubit gate CZ is\n",
      "    native, as well. The qubits can be measured simultaneously or separately any number of times.\n",
      "    \n",
      "Gateset: \n",
      "Type GateFamily: cirq.ops.phased_x_gate.PhasedXPowGate\n",
      "Accepts `cirq.Gate` instances `g` s.t. `isinstance(g, cirq.ops.phased_x_gate.PhasedXPowGate)`\n",
      "\n",
      "Type GateFamily: cirq.ops.common_gates.XPowGate\n",
      "Accepts `cirq.Gate` instances `g` s.t. `isinstance(g, cirq.ops.common_gates.XPowGate)`\n",
      "\n",
      "Type GateFamily: cirq.ops.common_gates.YPowGate\n",
      "Accepts `cirq.Gate` instances `g` s.t. `isinstance(g, cirq.ops.common_gates.YPowGate)`\n",
      "\n",
      "Type GateFamily: cirq.ops.measurement_gate.MeasurementGate\n",
      "Accepts `cirq.Gate` instances `g` s.t. `isinstance(g, cirq.ops.measurement_gate.MeasurementGate)`\n",
      "\n",
      "Type GateFamily: cirq.ops.common_gates.CZPowGate\n",
      "Accepts `cirq.Gate` instances `g` s.t. `isinstance(g, cirq.ops.common_gates.CZPowGate)`\n",
      "(cirq.NamedQid('QB1', dimension=2), cirq.NamedQid('QB2', dimension=2), cirq.NamedQid('QB3', dimension=2), cirq.NamedQid('QB4', dimension=2), cirq.NamedQid('QB5', dimension=2), cirq.NamedQid('QB6', dimension=2), cirq.NamedQid('QB7', dimension=2), cirq.NamedQid('QB8', dimension=2), cirq.NamedQid('QB9', dimension=2), cirq.NamedQid('QB10', dimension=2), cirq.NamedQid('QB11', dimension=2), cirq.NamedQid('QB12', dimension=2), cirq.NamedQid('QB13', dimension=2), cirq.NamedQid('QB14', dimension=2), cirq.NamedQid('QB15', dimension=2), cirq.NamedQid('QB16', dimension=2), cirq.NamedQid('QB17', dimension=2), cirq.NamedQid('QB18', dimension=2), cirq.NamedQid('QB19', dimension=2), cirq.NamedQid('QB20', dimension=2), cirq.NamedQid('QB21', dimension=2), cirq.NamedQid('QB22', dimension=2), cirq.NamedQid('QB23', dimension=2), cirq.NamedQid('QB24', dimension=2), cirq.NamedQid('QB25', dimension=2), cirq.NamedQid('QB26', dimension=2), cirq.NamedQid('QB27', dimension=2), cirq.NamedQid('QB28', dimension=2), cirq.NamedQid('QB29', dimension=2), cirq.NamedQid('QB30', dimension=2), cirq.NamedQid('QB31', dimension=2), cirq.NamedQid('QB32', dimension=2), cirq.NamedQid('QB33', dimension=2), cirq.NamedQid('QB34', dimension=2), cirq.NamedQid('QB35', dimension=2), cirq.NamedQid('QB36', dimension=2), cirq.NamedQid('QB37', dimension=2), cirq.NamedQid('QB38', dimension=2), cirq.NamedQid('QB39', dimension=2), cirq.NamedQid('QB40', dimension=2), cirq.NamedQid('QB41', dimension=2), cirq.NamedQid('QB42', dimension=2), cirq.NamedQid('QB43', dimension=2), cirq.NamedQid('QB44', dimension=2), cirq.NamedQid('QB45', dimension=2), cirq.NamedQid('QB46', dimension=2), cirq.NamedQid('QB47', dimension=2), cirq.NamedQid('QB48', dimension=2), cirq.NamedQid('QB49', dimension=2), cirq.NamedQid('QB50', dimension=2), cirq.NamedQid('QB51', dimension=2), cirq.NamedQid('QB52', dimension=2), cirq.NamedQid('QB53', dimension=2), cirq.NamedQid('QB54', dimension=2))\n"
     ]
    }
   ],
   "source": [
    "aphrodite = Aphrodite()\n",
    "print(aphrodite.__doc__)\n",
    "print(aphrodite.metadata.gateset)\n",
    "print(aphrodite.qubits)"
   ]
  },
  {
   "cell_type": "markdown",
   "metadata": {},
   "source": [
    "Create a simple circuit, for example a GHZ state"
   ]
  },
  {
   "cell_type": "code",
   "execution_count": 18,
   "metadata": {},
   "outputs": [
    {
     "name": "stdout",
     "output_type": "stream",
     "text": [
      "QB1 (d=2): ───H───@───────────────────M('result')───\n",
      "                  │                   │\n",
      "QB2 (d=2): ───────X───@───────────────M─────────────\n",
      "                      │               │\n",
      "QB3 (d=2): ───────────X───@───────────M─────────────\n",
      "                          │           │\n",
      "QB4 (d=2): ───────────────X───@───────M─────────────\n",
      "                              │       │\n",
      "QB5 (d=2): ───────────────────X───@───M─────────────\n",
      "                                  │   │\n",
      "QB6 (d=2): ───────────────────────X───M─────────────\n"
     ]
    }
   ],
   "source": [
    "circuit = cirq.Circuit()\n",
    "circuit.append(cirq.H(aphrodite.qubits[0]))\n",
    "for ctrl, targ in zip(aphrodite.qubits[:5], aphrodite.qubits[1:6]):\n",
    "    circuit.append(cirq.CX(ctrl, targ))\n",
    "circuit.append(cirq.measure(aphrodite.qubits[:6], key='result'))\n",
    "print(circuit)"
   ]
  },
  {
   "cell_type": "markdown",
   "metadata": {},
   "source": [
    "Transpile the circuit to fit the architecture:\n",
    "    - Turn the circuit into native gates\n",
    "    - Simplify the circuit to remove redundant gates\n",
    "    - Route the circuit to fit the qubit connectivity\n",
    "    - Decompose the circuit again because routing can add non-native SWAP gates\n",
    "    - Simplify the circuit again because some components of the decomposed SWAP can cancel out"
   ]
  },
  {
   "cell_type": "code",
   "execution_count": 19,
   "metadata": {},
   "outputs": [
    {
     "name": "stdout",
     "output_type": "stream",
     "text": [
      "QB5 (d=2): ────PhX(-0.5)^0.5──────────────────────@───PhX(0.5)^0.5───@────────────────────────────────────────────────────────M─────────────\n",
      "                                                  │                  │                                                        │\n",
      "QB6 (d=2): ────PhX(-0.5)^0.5───@───PhX(0.5)^0.5───@──────────────────┼────────────────────────────────────────────────────────M─────────────\n",
      "                               │                                     │                                                        │\n",
      "QB11 (d=2): ───PhX(-0.5)^0.5───┼─────────────────────────────────────@───PhX(0.5)^0.5───@─────────────────────────────────────M─────────────\n",
      "                               │                                                        │                                     │\n",
      "QB12 (d=2): ───PhX(-0.5)^0.5───@────────────────────────────────────────────────────────┼─────────────────────────────────────M('result')───\n",
      "                                                                                        │                                     │\n",
      "QB19 (d=2): ───PhX(-0.5)^0.5────────────────────────────────────────────────────────────@───PhX(0.5)^0.5───@──────────────────M─────────────\n",
      "                                                                                                           │                  │\n",
      "QB27 (d=2): ───PhX(-0.5)^0.5───────────────────────────────────────────────────────────────────────────────@───PhX(0.5)^0.5───M─────────────\n"
     ]
    }
   ],
   "source": [
    "native_circuit = aphrodite.decompose_circuit(circuit)\n",
    "simplified_circuit = simplify_circuit(native_circuit)\n",
    "routed_circuit, _, _ = aphrodite.route_circuit(simplified_circuit)\n",
    "native_routed_circuit = aphrodite.decompose_circuit(routed_circuit)\n",
    "transpiled_circuit = simplify_circuit(native_routed_circuit)\n",
    "print(transpiled_circuit)"
   ]
  },
  {
   "cell_type": "markdown",
   "metadata": {},
   "source": [
    "Run the simulator"
   ]
  },
  {
   "cell_type": "code",
   "execution_count": 20,
   "metadata": {},
   "outputs": [
    {
     "name": "stdout",
     "output_type": "stream",
     "text": [
      "Samples:\n",
      "Counter({0: 51, 63: 49})\n",
      "\n",
      "State before the measurement:\n",
      "measurements: (no measurements)\n",
      "\n",
      "qubits: (cirq.NamedQid('QB12', dimension=2), cirq.NamedQid('QB6', dimension=2), cirq.NamedQid('QB5', dimension=2), cirq.NamedQid('QB11', dimension=2), cirq.NamedQid('QB19', dimension=2), cirq.NamedQid('QB27', dimension=2))\n",
      "output vector: (-0.5+0.5j)|000000⟩ + (0.5-0.5j)|111111⟩\n",
      "\n",
      "phase:\n",
      "output vector: |⟩\n"
     ]
    }
   ],
   "source": [
    "sim = cirq.Simulator()\n",
    "samples = sim.run(transpiled_circuit, repetitions=100)\n",
    "\n",
    "print('Samples:')\n",
    "print(samples.histogram(key='result'))\n",
    "print('\\nState before the measurement:')\n",
    "result = sim.simulate(transpiled_circuit[:-1])\n",
    "print(result)"
   ]
  }
 ],
 "metadata": {
  "kernelspec": {
   "display_name": "adonis",
   "language": "python",
   "name": "python3"
  },
  "language_info": {
   "codemirror_mode": {
    "name": "ipython",
    "version": 3
   },
   "file_extension": ".py",
   "mimetype": "text/x-python",
   "name": "python",
   "nbconvert_exporter": "python",
   "pygments_lexer": "ipython3",
   "version": "3.11.8"
  },
  "pycharm": {
   "stem_cell": {
    "cell_type": "raw",
    "source": [
     "# Copyright 2020–2022 Cirq on IQM developers\n",
     "#\n",
     "# Licensed under the Apache License, Version 2.0 (the \"License\");\n",
     "# you may not use this file except in compliance with the License.\n",
     "# You may obtain a copy of the License at\n",
     "#\n",
     "#     http://www.apache.org/licenses/LICENSE-2.0\n",
     "#\n",
     "# Unless required by applicable law or agreed to in writing, software\n",
     "# distributed under the License is distributed on an \"AS IS\" BASIS,\n",
     "# WITHOUT WARRANTIES OR CONDITIONS OF ANY KIND, either express or implied.\n",
     "# See the License for the specific language governing permissions and\n",
     "# limitations under the License.\n"
    ]
   }
  }
 },
 "nbformat": 4,
 "nbformat_minor": 1
}
