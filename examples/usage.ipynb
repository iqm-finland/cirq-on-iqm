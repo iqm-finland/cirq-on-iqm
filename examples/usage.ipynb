{
 "cells": [
  {
   "cell_type": "code",
   "execution_count": null,
   "metadata": {},
   "outputs": [],
   "source": [
    "import cirq\n",
    "from cirq_iqm import Adonis, circuit_from_qasm\n",
    "from cirq_iqm.optimizers import simplify_circuit"
   ]
  },
  {
   "cell_type": "markdown",
   "metadata": {},
   "source": [
    "# The Adonis architecture\n",
    "\n",
    "Qubit connectivity:\n",
    "```\n",
    "      QB1\n",
    "       |\n",
    "QB4 - QB3 - QB2\n",
    "       |\n",
    "      QB5\n",
    "```\n",
    "Construct an `IQMDevice` instance representing the Adonis architecture"
   ]
  },
  {
   "cell_type": "code",
   "execution_count": null,
   "metadata": {
    "pycharm": {
     "name": "#%%\n"
    }
   },
   "outputs": [],
   "source": [
    "adonis = Adonis()\n",
    "print(adonis.NATIVE_GATES)\n",
    "print(adonis.NATIVE_GATE_INSTANCES)\n",
    "print(adonis.qubits)"
   ]
  },
  {
   "cell_type": "markdown",
   "metadata": {},
   "source": [
    "# Creating a quantum circuit\n",
    "\n",
    "Create a quantum circuit and insert native gates"
   ]
  },
  {
   "cell_type": "code",
   "execution_count": null,
   "metadata": {
    "pycharm": {
     "name": "#%%\n"
    }
   },
   "outputs": [],
   "source": [
    "a, b, c = adonis.qubits[:3]\n",
    "circuit = cirq.Circuit(device=adonis)\n",
    "circuit.append(cirq.X(a))\n",
    "circuit.append(cirq.PhasedXPowGate(phase_exponent=0.3, exponent=0.5)(c))\n",
    "circuit.append(cirq.CZ(a, c))\n",
    "circuit.append(cirq.YPowGate(exponent=1.1)(c))\n",
    "print(circuit)"
   ]
  },
  {
   "cell_type": "markdown",
   "metadata": {},
   "source": [
    "Insert non-native gates, which are immediately decomposed into native ones"
   ]
  },
  {
   "cell_type": "code",
   "execution_count": null,
   "metadata": {},
   "outputs": [],
   "source": [
    "circuit.append(cirq.ZZPowGate(exponent=0.2, global_shift=-0.5)(a, c))\n",
    "circuit.append(cirq.HPowGate(exponent=-0.4)(a))\n",
    "print(circuit)"
   ]
  },
  {
   "cell_type": "markdown",
   "metadata": {},
   "source": [
    "# Optimizing a quantum circuit\n",
    "\n",
    "Use the `simplify_circuit` method to run a sequence of optimization passes on a circuit"
   ]
  },
  {
   "cell_type": "code",
   "execution_count": null,
   "metadata": {
    "pycharm": {
     "name": "#%%\n"
    }
   },
   "outputs": [],
   "source": [
    "circuit = cirq.Circuit([\n",
    "    cirq.H(a),\n",
    "    cirq.CNOT(a, c),\n",
    "    cirq.measure(a, c, key='result'),\n",
    "], device=adonis)\n",
    "print(circuit)"
   ]
  },
  {
   "cell_type": "code",
   "execution_count": null,
   "metadata": {},
   "outputs": [],
   "source": [
    "circuit = simplify_circuit(circuit)\n",
    "print(circuit)"
   ]
  },
  {
   "cell_type": "markdown",
   "metadata": {},
   "source": [
    "# Simulating a quantum circuit\n",
    "\n",
    "Circuits that contain IQM-native gates can be simulated using the standard Cirq simulators"
   ]
  },
  {
   "cell_type": "code",
   "execution_count": null,
   "metadata": {},
   "outputs": [],
   "source": [
    "sim = cirq.Simulator()\n",
    "samples = sim.run(circuit, repetitions=100)\n",
    "\n",
    "print('Samples:')\n",
    "print(samples.histogram(key='result'))\n",
    "print('\\nState before the measurement:')\n",
    "result = sim.simulate(circuit[:-1])\n",
    "print(result)"
   ]
  },
  {
   "cell_type": "markdown",
   "metadata": {
    "pycharm": {
     "name": "#%% md\n"
    }
   },
   "source": [
    "Note that the above output vector represents the state before the measurement in the optimized circuit, not the original\n",
    " one, which would have the same phase for both terms. `simplify_circuit` has eliminated a `ZPowGate` which\n",
    " has no effect on the measurement.\n",
    "\n",
    "---\n",
    "\n",
    "# Creating a quantum circuit from an OpenQASM 2.0 program\n"
   ]
  },
  {
   "cell_type": "code",
   "execution_count": null,
   "metadata": {},
   "outputs": [],
   "source": [
    "qasm_program = \"\"\"\n",
    "    OPENQASM 2.0;\n",
    "    include \"qelib1.inc\";\n",
    "    qreg q[3];\n",
    "    creg meas[3];\n",
    "    rx(1.7) q[1];\n",
    "    h q[0];\n",
    "    cx q[1], q[2];\n",
    "\"\"\"\n",
    "circuit = circuit_from_qasm(qasm_program)\n",
    "print(circuit)"
   ]
  },
  {
   "cell_type": "markdown",
   "metadata": {},
   "source": [
    "Decompose the circuit for the Adonis architecture"
   ]
  },
  {
   "cell_type": "code",
   "execution_count": null,
   "metadata": {
    "scrolled": true
   },
   "outputs": [],
   "source": [
    "decomposed = adonis.decompose_circuit(circuit)\n",
    "print(decomposed)"
   ]
  },
  {
   "cell_type": "markdown",
   "metadata": {},
   "source": [
    "Map the circuit qubits to device qubits manually"
   ]
  },
  {
   "cell_type": "code",
   "execution_count": null,
   "metadata": {
    "scrolled": false
   },
   "outputs": [],
   "source": [
    "qubit_mapping = {cirq.NamedQubit(k): v for k, v in {'q_0': a, 'q_1': b, 'q_2': c}.items()}\n",
    "mapped = decomposed.transform_qubits(qubit_mapping)\n",
    "print(mapped)"
   ]
  },
  {
   "cell_type": "markdown",
   "metadata": {},
   "source": [
    "or automatically"
   ]
  },
  {
   "cell_type": "code",
   "execution_count": null,
   "metadata": {
    "scrolled": true
   },
   "outputs": [],
   "source": [
    "mapped = adonis.route_circuit(decomposed)\n",
    "print(mapped)"
   ]
  },
  {
   "cell_type": "markdown",
   "metadata": {},
   "source": [
    "See the `examples` directory for more examples."
   ]
  }
 ],
 "metadata": {
  "kernelspec": {
   "display_name": "Python 3 (ipykernel)",
   "language": "python",
   "name": "python3"
  },
  "language_info": {
   "codemirror_mode": {
    "name": "ipython",
    "version": 3
   },
   "file_extension": ".py",
   "mimetype": "text/x-python",
   "name": "python",
   "nbconvert_exporter": "python",
   "pygments_lexer": "ipython3",
   "version": "3.9.5"
  },
  "pycharm": {
   "stem_cell": {
    "cell_type": "raw",
    "source": [
     "# Copyright 2020–2021 Cirq on IQM developers\n",
     "#\n",
     "# Licensed under the Apache License, Version 2.0 (the \"License\");\n",
     "# you may not use this file except in compliance with the License.\n",
     "# You may obtain a copy of the License at\n",
     "#\n",
     "#     http://www.apache.org/licenses/LICENSE-2.0\n",
     "#\n",
     "# Unless required by applicable law or agreed to in writing, software\n",
     "# distributed under the License is distributed on an \"AS IS\" BASIS,\n",
     "# WITHOUT WARRANTIES OR CONDITIONS OF ANY KIND, either express or implied.\n",
     "# See the License for the specific language governing permissions and\n",
     "# limitations under the License.\n"
    ]
   }
  }
 },
 "nbformat": 4,
 "nbformat_minor": 1
}
