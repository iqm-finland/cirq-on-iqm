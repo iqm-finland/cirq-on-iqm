{
 "cells": [
  {
   "cell_type": "code",
   "execution_count": null,
   "metadata": {},
   "outputs": [],
   "source": [
    "try:\n",
    "    import cirq\n",
    "    from iqm.cirq_iqm import Adonis, Apollo, circuit_from_qasm\n",
    "    from iqm.cirq_iqm.optimizers import simplify_circuit\n",
    "except ImportError:\n",
    "    print('Installing missing dependencies...')\n",
    "    !pip install --quiet cirq cirq_iqm\n",
    "    from iqm.cirq_iqm import Adonis, Apollo, circuit_from_qasm\n",
    "    from iqm.cirq_iqm.optimizers import simplify_circuit\n",
    "    print('Installation ready')"
   ]
  },
  {
   "cell_type": "markdown",
   "metadata": {},
   "source": [
    "# The Adonis architecture\n",
    "\n",
    "Construct an `IQMDevice` instance representing the Adonis architecture, print its qubit connectivity and description"
   ]
  },
  {
   "cell_type": "code",
   "execution_count": null,
   "metadata": {},
   "outputs": [],
   "source": [
    "adonis = Adonis()\n",
    "print(adonis.__doc__)\n",
    "print(adonis.metadata.gateset)\n",
    "print(adonis.qubits)"
   ]
  },
  {
   "cell_type": "markdown",
   "metadata": {},
   "source": [
    "# Creating a quantum circuit\n",
    "\n",
    "Create a quantum circuit and insert native gates"
   ]
  },
  {
   "cell_type": "code",
   "execution_count": null,
   "metadata": {},
   "outputs": [],
   "source": [
    "a, b, c = adonis.qubits[:3]\n",
    "circuit = cirq.Circuit()\n",
    "circuit.append(cirq.X(a))\n",
    "circuit.append(cirq.PhasedXPowGate(phase_exponent=0.3, exponent=0.5)(c))\n",
    "circuit.append(cirq.CZ(a, c))\n",
    "circuit.append(cirq.YPowGate(exponent=1.1)(c))\n",
    "print(circuit)"
   ]
  },
  {
   "cell_type": "markdown",
   "metadata": {},
   "source": [
    "Insert non-native gates and decompose them into native ones by calling `decompose_circuit`"
   ]
  },
  {
   "cell_type": "code",
   "execution_count": null,
   "metadata": {},
   "outputs": [],
   "source": [
    "circuit.append(cirq.ZZPowGate(exponent=0.2, global_shift=-0.5)(a, c))\n",
    "circuit.append(cirq.HPowGate(exponent=-0.4)(a))\n",
    "circuit = adonis.decompose_circuit(circuit)\n",
    "print(circuit)"
   ]
  },
  {
   "cell_type": "markdown",
   "metadata": {},
   "source": [
    "# Optimizing a quantum circuit\n",
    "\n",
    "Use the `simplify_circuit` method to run a sequence of optimization passes on a circuit"
   ]
  },
  {
   "cell_type": "code",
   "execution_count": null,
   "metadata": {},
   "outputs": [],
   "source": [
    "circuit = cirq.Circuit([\n",
    "    cirq.H(a),\n",
    "    cirq.CNOT(a, c),\n",
    "    cirq.measure(a, c, key='result')])\n",
    "print(circuit)"
   ]
  },
  {
   "cell_type": "code",
   "execution_count": null,
   "metadata": {},
   "outputs": [],
   "source": [
    "circuit = adonis.decompose_circuit(circuit)\n",
    "circuit = simplify_circuit(circuit)\n",
    "print(circuit)"
   ]
  },
  {
   "cell_type": "markdown",
   "metadata": {},
   "source": [
    "# Simulating a quantum circuit\n",
    "\n",
    "Circuits that contain IQM-native gates can be simulated using the standard Cirq simulators"
   ]
  },
  {
   "cell_type": "code",
   "execution_count": null,
   "metadata": {},
   "outputs": [],
   "source": [
    "sim = cirq.Simulator()\n",
    "samples = sim.run(circuit, repetitions=100)\n",
    "\n",
    "print('Samples:')\n",
    "print(samples.histogram(key='result'))\n",
    "print('\\nState before the measurement:')\n",
    "result = sim.simulate(circuit[:-1])\n",
    "print(result)"
   ]
  },
  {
   "cell_type": "markdown",
   "metadata": {},
   "source": [
    "Note that the above output vector represents the state before the measurement in the optimized circuit, not the original one, which would have the same phase for both terms. `simplify_circuit` has eliminated a `ZPowGate` which has no effect on the measurement.\n",
    "\n",
    "---\n",
    "\n",
    "# Creating a quantum circuit from an OpenQASM 2.0 program\n"
   ]
  },
  {
   "cell_type": "code",
   "execution_count": null,
   "metadata": {},
   "outputs": [],
   "source": [
    "qasm_program = \"\"\"\n",
    "    OPENQASM 2.0;\n",
    "    include \"qelib1.inc\";\n",
    "    qreg q[3];\n",
    "    creg meas[3];\n",
    "    rx(1.7) q[1];\n",
    "    h q[0];\n",
    "    cx q[1], q[2];\n",
    "\"\"\"\n",
    "circuit = circuit_from_qasm(qasm_program)\n",
    "print(circuit)"
   ]
  },
  {
   "cell_type": "markdown",
   "metadata": {},
   "source": [
    "Decompose the circuit for the Adonis architecture"
   ]
  },
  {
   "cell_type": "code",
   "execution_count": null,
   "metadata": {
    "scrolled": true
   },
   "outputs": [],
   "source": [
    "decomposed = adonis.decompose_circuit(circuit)\n",
    "print(decomposed)"
   ]
  },
  {
   "cell_type": "markdown",
   "metadata": {},
   "source": [
    "Map the circuit qubits to device qubits manually"
   ]
  },
  {
   "cell_type": "code",
   "execution_count": null,
   "metadata": {
    "scrolled": false
   },
   "outputs": [],
   "source": [
    "qubit_mapping = {cirq.NamedQubit(k): v for k, v in {'q_0': a, 'q_1': b, 'q_2': c}.items()}\n",
    "mapped = decomposed.transform_qubits(qubit_mapping)\n",
    "print(mapped)"
   ]
  },
  {
   "cell_type": "markdown",
   "metadata": {},
   "source": [
    "or automatically"
   ]
  },
  {
   "cell_type": "code",
   "execution_count": null,
   "metadata": {
    "scrolled": true
   },
   "outputs": [],
   "source": [
    "mapped, _, _ = adonis.route_circuit(decomposed)\n",
    "print(mapped)"
   ]
  },
  {
   "cell_type": "markdown",
   "metadata": {},
   "source": [
    "See the `examples` directory for more examples."
   ]
  },
  {
   "cell_type": "markdown",
   "metadata": {},
   "source": [
    "---\n",
    "\n",
    "# The Apollo architecture\n",
    "\n",
    "This section describes the same workflow using the 20-qubit Apollo architecture.\n",
    "\n",
    "Construct an `IQMDevice` instance representing the Apollo architecture, print its qubit connectivity and description"
   ]
  },
  {
   "cell_type": "code",
   "execution_count": null,
   "metadata": {
    "scrolled": true
   },
   "outputs": [],
   "source": [
    "apollo = Apollo()\n",
    "print(apollo.__doc__)\n",
    "print(apollo.metadata.gateset)\n",
    "print(apollo.qubits)"
   ]
  },
  {
   "cell_type": "markdown",
   "metadata": {},
   "source": [
    "Create a circuit and insert native gates"
   ]
  },
  {
   "cell_type": "code",
   "execution_count": null,
   "metadata": {},
   "outputs": [],
   "source": [
    "a, b, c, d, e, f = apollo.qubits[:6]\n",
    "circuit = cirq.Circuit()\n",
    "circuit.append(cirq.CZ(a, b))\n",
    "circuit.append(cirq.CZ(a, c))\n",
    "circuit.append(cirq.YPowGate(exponent=1.1)(d))\n",
    "circuit.append(cirq.YPowGate(exponent=1.1)(e))\n",
    "circuit.append(cirq.PhasedXPowGate(phase_exponent=0.3, exponent=0.5)(f))\n",
    "print(circuit)"
   ]
  },
  {
   "cell_type": "markdown",
   "metadata": {},
   "source": [
    "Insert non-native gates and decompose the circuit so that it contains native gates only"
   ]
  },
  {
   "cell_type": "code",
   "execution_count": null,
   "metadata": {},
   "outputs": [],
   "source": [
    "circuit.append(cirq.ZZPowGate(exponent=0.2, global_shift=-0.5)(d, e))\n",
    "circuit.append(cirq.HPowGate(exponent=-0.4)(f))\n",
    "circuit = apollo.decompose_circuit(circuit)\n",
    "print(circuit)"
   ]
  },
  {
   "cell_type": "markdown",
   "metadata": {},
   "source": [
    "Use the `simplify_circuit` function to run a sequence of optimization passes on a circuit"
   ]
  },
  {
   "cell_type": "code",
   "execution_count": null,
   "metadata": {},
   "outputs": [],
   "source": [
    "circuit = apollo.decompose_circuit(circuit)\n",
    "circuit = simplify_circuit(circuit)\n",
    "print(circuit)"
   ]
  },
  {
   "cell_type": "code",
   "execution_count": null,
   "metadata": {},
   "outputs": [],
   "source": [
    "circuit.append(cirq.measure(a, f, key='result'))\n",
    "\n",
    "sim = cirq.Simulator()\n",
    "samples = sim.run(circuit, repetitions=100)\n",
    "\n",
    "print('Samples:')\n",
    "print(samples.histogram(key='result'))\n",
    "print('\\nState before the measurement:')\n",
    "result = sim.simulate(circuit[:-1])\n",
    "print(result)"
   ]
  }
 ],
 "metadata": {
  "kernelspec": {
   "display_name": "Python 3 (ipykernel)",
   "language": "python",
   "name": "python3"
  },
  "language_info": {
   "codemirror_mode": {
    "name": "ipython",
    "version": 3
   },
   "file_extension": ".py",
   "mimetype": "text/x-python",
   "name": "python",
   "nbconvert_exporter": "python",
   "pygments_lexer": "ipython3",
   "version": "3.9.5"
  },
  "pycharm": {
   "stem_cell": {
    "cell_type": "raw",
    "source": [
     "# Copyright 2020–2022 Cirq on IQM developers\n",
     "#\n",
     "# Licensed under the Apache License, Version 2.0 (the \"License\");\n",
     "# you may not use this file except in compliance with the License.\n",
     "# You may obtain a copy of the License at\n",
     "#\n",
     "#     http://www.apache.org/licenses/LICENSE-2.0\n",
     "#\n",
     "# Unless required by applicable law or agreed to in writing, software\n",
     "# distributed under the License is distributed on an \"AS IS\" BASIS,\n",
     "# WITHOUT WARRANTIES OR CONDITIONS OF ANY KIND, either express or implied.\n",
     "# See the License for the specific language governing permissions and\n",
     "# limitations under the License.\n"
    ]
   }
  }
 },
 "nbformat": 4,
 "nbformat_minor": 1
}
